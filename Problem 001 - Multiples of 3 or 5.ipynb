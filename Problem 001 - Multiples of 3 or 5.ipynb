{
 "cells": [
  {
   "cell_type": "markdown",
   "id": "97322989-b885-4a5c-b55c-4012b8d56f09",
   "metadata": {},
   "source": [
    "### Problem 1 - Multiples of 3 or 5\n",
    "\n",
    "If we list all the natural numbers below 10 that are multiples of 3 or 5, we get 3, 5, 6 and 9. The sum of these multiples is 23.\n",
    "\n",
    "Find the sum of all the multiples of 3 or 5 below 1000."
   ]
  },
  {
   "cell_type": "markdown",
   "id": "2e184be9",
   "metadata": {},
   "source": [
    "### Solution"
   ]
  },
  {
   "cell_type": "code",
   "execution_count": 4,
   "id": "86106882-12e2-48d6-b2b9-43af2a64468c",
   "metadata": {},
   "outputs": [
    {
     "name": "stdout",
     "output_type": "stream",
     "text": [
      "233168\n"
     ]
    }
   ],
   "source": [
    "# Initialize the list of multiples\n",
    "multiples = []\n",
    "\n",
    "# check whether each number is divisible by 3 or 5\n",
    "for i in range(1000):\n",
    "    if i%3 == 0 or i%5 == 0:\n",
    "        \n",
    "        # if the number is divisible, add it to the list\n",
    "        multiples.append(i)\n",
    "        \n",
    "# print the sum\n",
    "print(sum(multiples))"
   ]
  },
  {
   "cell_type": "markdown",
   "id": "9a7f5714",
   "metadata": {},
   "source": [
    "The answer is 233,168."
   ]
  }
 ],
 "metadata": {
  "kernelspec": {
   "display_name": "king",
   "language": "python",
   "name": "king"
  },
  "language_info": {
   "codemirror_mode": {
    "name": "ipython",
    "version": 3
   },
   "file_extension": ".py",
   "mimetype": "text/x-python",
   "name": "python",
   "nbconvert_exporter": "python",
   "pygments_lexer": "ipython3",
   "version": "3.10.7"
  }
 },
 "nbformat": 4,
 "nbformat_minor": 5
}
