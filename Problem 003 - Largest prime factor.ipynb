{
 "cells": [
  {
   "cell_type": "markdown",
   "id": "bfe4d460-0604-4539-95b8-4478461e7740",
   "metadata": {},
   "source": [
    "### Problem 3 - Largest prime factor\n",
    "\n",
    "The prime factors of 13195 are 5, 7, 13 and 29.\n",
    "\n",
    "What is the largest prime factor of the number 600851475143?"
   ]
  },
  {
   "cell_type": "markdown",
   "id": "2ed0ef38",
   "metadata": {},
   "source": [
    "### Solution"
   ]
  },
  {
   "cell_type": "code",
   "execution_count": 19,
   "id": "35046067-889e-4fd4-a028-f4468a5dfa93",
   "metadata": {},
   "outputs": [],
   "source": [
    "def pfactorize(number):  \n",
    "    \n",
    "    '''\n",
    "    This function finds all the prime factors of any number\n",
    "    \n",
    "    INPUT: any number to factor\n",
    "    OUPUT: the prime factors of the number\n",
    "    '''\n",
    "    \n",
    "    # Initilaize the list of prime factors\n",
    "    p_factors = []\n",
    "    \n",
    "    # start with the first prime number\n",
    "    x = 2\n",
    "    \n",
    "    while x <= number:\n",
    "        # if there is no remainder, x is a prime factor\n",
    "        if number%x == 0:\n",
    "            p_factors.append(x)\n",
    "            \n",
    "            # divide the number by x and continue the loop\n",
    "            number = number/x\n",
    "            continue\n",
    "        \n",
    "        # if there is a remainder:\n",
    "        elif number%x != 0:\n",
    "            \n",
    "            # if x = 2, increase x by 1 \n",
    "            if x == 2:\n",
    "                x += 1\n",
    "                \n",
    "            # if x != 2, increase x by 2 (no reason to check even numbers as they are not primes)\n",
    "            elif x != 2:\n",
    "                x += 2\n",
    "                \n",
    "    # return the prime factors and the max prime factor   \n",
    "    return(p_factors)    "
   ]
  },
  {
   "cell_type": "markdown",
   "id": "50636bb7",
   "metadata": {},
   "source": [
    "Solve for the number in the question:"
   ]
  },
  {
   "cell_type": "code",
   "execution_count": 22,
   "id": "2fb7ac45",
   "metadata": {},
   "outputs": [
    {
     "name": "stdout",
     "output_type": "stream",
     "text": [
      "6857\n"
     ]
    }
   ],
   "source": [
    "number = 600851475143\n",
    "p_factors = pfactorize(number)\n",
    "largest_pfactor = max(p_factors)\n",
    "print(largest_pfactor)"
   ]
  },
  {
   "cell_type": "markdown",
   "id": "e1c2876a",
   "metadata": {},
   "source": [
    "The answer is 6,857."
   ]
  }
 ],
 "metadata": {
  "kernelspec": {
   "display_name": "king",
   "language": "python",
   "name": "king"
  },
  "language_info": {
   "codemirror_mode": {
    "name": "ipython",
    "version": 3
   },
   "file_extension": ".py",
   "mimetype": "text/x-python",
   "name": "python",
   "nbconvert_exporter": "python",
   "pygments_lexer": "ipython3",
   "version": "3.10.7"
  }
 },
 "nbformat": 4,
 "nbformat_minor": 5
}
