{
 "cells": [
  {
   "cell_type": "markdown",
   "id": "7d04e16a-736f-455d-a003-de4fa6ff4ad4",
   "metadata": {},
   "source": [
    "### Problem 4 - Largest palindrome product\n",
    "\n",
    "A palindromic number reads the same both ways. The largest palindrome made from the product of two 2-digit numbers is 9009 = 91 × 99.\n",
    "\n",
    "Find the largest palindrome made from the product of two 3-digit numbers."
   ]
  },
  {
   "cell_type": "markdown",
   "id": "4bd7e74a",
   "metadata": {},
   "source": [
    "### Solution"
   ]
  },
  {
   "cell_type": "code",
   "execution_count": 14,
   "id": "11e80cc9",
   "metadata": {},
   "outputs": [],
   "source": [
    "def checkrev(x):\n",
    "    '''\n",
    "    This function takes any string and checks if the reverse of the string is identical to the original string.\n",
    "    '''\n",
    "    if x[::-1] != x:\n",
    "        return False\n",
    "    else:\n",
    "        return True"
   ]
  },
  {
   "cell_type": "markdown",
   "id": "360d7eea",
   "metadata": {},
   "source": [
    "The strategy for this problem was to start with the largest 3-digit numbers, check to see if their product was a palindromic number, and continue by subtracting 1 from the second 3-digit number. When a palindromic number is found, subtract 1 from the first number and reset the second number to 999. "
   ]
  },
  {
   "cell_type": "code",
   "execution_count": 16,
   "id": "5270228b-f263-42e7-89d6-6c653c4e500e",
   "metadata": {},
   "outputs": [
    {
     "name": "stdout",
     "output_type": "stream",
     "text": [
      "[21912, 38883, 66866, 68586, 88288, 90909, 119911, 580085, 906609]\n",
      "906609\n"
     ]
    }
   ],
   "source": [
    "# initializing variables with the greatest 3-digit values\n",
    "x = 999\n",
    "y = 999\n",
    "\n",
    "# initializing the list of palindromic numbers\n",
    "palindromes = []\n",
    "\n",
    "# find each product of two 3-digit numbers\n",
    "while x > 0 and y > 0:\n",
    "    product = x*y\n",
    "    # turn it into a string\n",
    "    z = str(product)\n",
    "    \n",
    "    # if the number is not palindromic\n",
    "    if checkrev(z) == False:\n",
    "        # decrease y by 1\n",
    "        y = y - 1\n",
    "        continue\n",
    "        \n",
    "    # if the number is palindromic, add it to the list\n",
    "    else: \n",
    "        if product not in palindromes:\n",
    "            palindromes.append(product)\n",
    "        # decresase x by 1 and reset y to 999\n",
    "        x = x - 1\n",
    "        y = 999\n",
    "        \n",
    "# print the results\n",
    "print(sorted(palindromes))\n",
    "print(max(palindromes))"
   ]
  },
  {
   "cell_type": "markdown",
   "id": "1da36f4c",
   "metadata": {},
   "source": [
    "The answer is 906,609."
   ]
  }
 ],
 "metadata": {
  "kernelspec": {
   "display_name": "king",
   "language": "python",
   "name": "king"
  },
  "language_info": {
   "codemirror_mode": {
    "name": "ipython",
    "version": 3
   },
   "file_extension": ".py",
   "mimetype": "text/x-python",
   "name": "python",
   "nbconvert_exporter": "python",
   "pygments_lexer": "ipython3",
   "version": "3.10.7"
  }
 },
 "nbformat": 4,
 "nbformat_minor": 5
}
