{
 "cells": [
  {
   "cell_type": "markdown",
   "id": "421216b7-706e-484a-ae7c-ac42ea30a71a",
   "metadata": {},
   "source": [
    "### Problem 5 - Smallest multiple\n",
    "\n",
    "2,520 is the smallest number that can be divided by each of the numbers from 1 to 10 without any remainder.\n",
    "\n",
    "What is the smallest positive number that is evenly divisible by all of the numbers from 1 to 20?"
   ]
  },
  {
   "cell_type": "markdown",
   "id": "4a0d2574",
   "metadata": {},
   "source": [
    "### Solution\n",
    "\n",
    "My strategy here is to find all the prime factors of the numbers 2 through 20, taking into account the numbers that have duplicated prime factors. For example, 8 is 2^3 and 16 is 2^4, so to be divisible by 8, a number must have 2 as a prime factor at least 3 times, but to be divisible by 16, a number must have 2 as a prime factor at least 4 times. The smallest positive number that is evenly divisible by all of the numbers from 1 to 20 will simply be the product of all of these factors, each to their appropriate power. "
   ]
  },
  {
   "cell_type": "code",
   "execution_count": 83,
   "id": "be702c0e-94a0-484a-9d7e-e32dfb6e5859",
   "metadata": {},
   "outputs": [],
   "source": [
    "def pfactorize(number):\n",
    "    \n",
    "    '''\n",
    "    This function finds all the prime factors of any number \n",
    "    and keeps count of the quantities of each prime factor. \n",
    "    \n",
    "    INPUT: any number to factor\n",
    "    OUPUT: the prime factors and their quantities\n",
    "    \n",
    "    Example:\n",
    "    \n",
    "    Input number: 40\n",
    "    Output dictionary: {2:3, 5:1} where the keys are the prime factors and the values are their qauntities\n",
    "    '''\n",
    "    \n",
    "    # Initilaize the list of factors\n",
    "    p_factors = [] # the prime factors with duplicates\n",
    "    u_factors = [] # the unique prime factors\n",
    "    d_factors = {} # dictionary where the prime factors are the keys and their quantities are the values\n",
    "    \n",
    "    # start with the first prime number\n",
    "    x = 2\n",
    "    \n",
    "    \n",
    "    while x < number:\n",
    "        \n",
    "        # if there is no remainder, x is a prime factor\n",
    "        if number%x == 0:\n",
    "            p_factors.append(x)\n",
    "            \n",
    "            # divide the number by x and continue the loop\n",
    "            number = number/x\n",
    "            continue\n",
    "            \n",
    "        # if there is a remainder:\n",
    "        else:\n",
    "            \n",
    "            # if x = 2, increase x by 1\n",
    "            if x == 2:\n",
    "                x += 1\n",
    "                \n",
    "            # if x != 2, increase x by 2 (no reason to check even numbers as they are not primes)\n",
    "            else:\n",
    "                x += 2\n",
    "                \n",
    "    # in the case where the number is 2    \n",
    "    if x == number: \n",
    "        p_factors.append(x)\n",
    "    \n",
    "    # create the unique list of factors and set the value to the appropriate power\n",
    "    for p in p_factors:\n",
    "        if p not in u_factors:\n",
    "                u_factors.append(p)\n",
    "                # set the power to 1\n",
    "                d_factors[p] = 1\n",
    "                \n",
    "\n",
    "        if p_factors.count(p) > d_factors[p]:\n",
    "            # set the power to the higher value\n",
    "            d_factors[p] = p_factors.count(p)\n",
    "            \n",
    "    return(d_factors, u_factors)"
   ]
  },
  {
   "cell_type": "markdown",
   "id": "135642dd",
   "metadata": {},
   "source": [
    "Set the \"greatest factor\" to 20 and solve for the smallest multiple."
   ]
  },
  {
   "cell_type": "code",
   "execution_count": 85,
   "id": "60d8b06c",
   "metadata": {},
   "outputs": [
    {
     "name": "stdout",
     "output_type": "stream",
     "text": [
      "final factors = {2: 4, 3: 2, 5: 1, 7: 1, 11: 1, 13: 1, 17: 1, 19: 1}\n",
      "powers = [16, 9, 5, 7, 11, 13, 17, 19]\n",
      "answer = 232792560\n"
     ]
    }
   ],
   "source": [
    "final_factors = {} # the dictionary of factors and their quantities that must be used to find the smallest multiple\n",
    "all_factors = [] # the unique factors of the smallest multiple\n",
    "powers = [] # converting the final_factors dictionary to a list where each value is the key^value\n",
    "\n",
    "# set the greatest factor to which the smallest multiple must be divisible by\n",
    "greatest_factor = 20\n",
    "\n",
    "# for all numbers in the range\n",
    "for i in range(2,greatest_factor+1):\n",
    "    # factorize\n",
    "    d_factors, u_factors = pfactorize(i)\n",
    "    \n",
    "    # update the final_factors dictionary\n",
    "    for key,value in d_factors.items():\n",
    "        \n",
    "        # if the key is not yet in the all_factors list\n",
    "        if key not in all_factors:\n",
    "            all_factors.append(key)\n",
    "            # initiate the dictionary value\n",
    "            final_factors[key] = value\n",
    "            \n",
    "        # if the key is already in the all_factors list and the value needs to be increased\n",
    "        elif value > final_factors[key]:\n",
    "            # update the value\n",
    "            final_factors[key] = value\n",
    "\n",
    "# print the dictionary of the final prime factors and their quantities            \n",
    "print(f'final factors = {final_factors}') \n",
    "\n",
    "# create the powers list from the dictionary pairs\n",
    "for (key, value) in final_factors.items():\n",
    "    product = key**value\n",
    "    powers.append(product)\n",
    "    \n",
    "# print the powers list\n",
    "print(f'powers = {powers}')\n",
    "\n",
    "# multiply the powers together to solve for the smallest multiple\n",
    "answer = 1\n",
    "for n in powers:\n",
    "    answer = answer*n\n",
    "    \n",
    "# print the answer\n",
    "print(f'answer = {answer}')"
   ]
  },
  {
   "cell_type": "markdown",
   "id": "df3da13f",
   "metadata": {},
   "source": [
    "The answer is 232,792,560"
   ]
  }
 ],
 "metadata": {
  "kernelspec": {
   "display_name": "king",
   "language": "python",
   "name": "king"
  },
  "language_info": {
   "codemirror_mode": {
    "name": "ipython",
    "version": 3
   },
   "file_extension": ".py",
   "mimetype": "text/x-python",
   "name": "python",
   "nbconvert_exporter": "python",
   "pygments_lexer": "ipython3",
   "version": "3.10.7"
  }
 },
 "nbformat": 4,
 "nbformat_minor": 5
}
