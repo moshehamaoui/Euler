{
 "cells": [
  {
   "cell_type": "markdown",
   "id": "e84f4d7f-76a1-489a-839a-91b27b70a566",
   "metadata": {},
   "source": [
    "### Problem 6 - Sum square difference\n",
    "\n",
    "The sum of the squares of the first ten natural numbers is,\n",
    "\n",
    "1^2 + 2^2 + ... + 10^2 = 385\n",
    "\n",
    "The square of the sum of the first ten natural numbers is,\n",
    "\n",
    "(1 + 2 + ... + 10)^2 = 3025\n",
    "\n",
    "Hence the difference between the sum of the squares of the first ten natural numbers and the square of the sum is 3025 - 385 = 2640.\n",
    "\n",
    "Find the difference between the sum of the squares of the first one hundred natural numbers and the square of the sum."
   ]
  },
  {
   "cell_type": "markdown",
   "id": "ed9ba397",
   "metadata": {},
   "source": [
    "### Solution\n",
    "\n",
    "Create 2 lists:\n",
    "\n",
    "- a list of numbers from 1 - 100\n",
    "- a list of squares of the numbers from 1 - 100\n",
    "\n",
    "Sum the first list and square it.  \n",
    "Sum the second list.\n",
    "\n",
    "Find their difference."
   ]
  },
  {
   "cell_type": "code",
   "execution_count": 2,
   "id": "b17d5927-458d-4985-be86-45da51076d83",
   "metadata": {},
   "outputs": [
    {
     "name": "stdout",
     "output_type": "stream",
     "text": [
      "sum of the squares: 338350\n",
      "square of the sum: 25502500\n",
      "difference: 25164150\n"
     ]
    }
   ],
   "source": [
    "number = 100\n",
    "a = 1\n",
    "\n",
    "# create a list of numbers from 1 to 100\n",
    "numbers = [] \n",
    "while a <= number:\n",
    "    numbers.append(a)\n",
    "    a = a + 1\n",
    "\n",
    "# create a list of squares of the numbers from 1 to 100\n",
    "squares = []\n",
    "for n in numbers:\n",
    "    squares.append(n**2)\n",
    "    \n",
    "print(f'sum of the squares: {sum(squares)}')\n",
    "print(f'square of the sum: {(sum(numbers)**2)}')\n",
    "print(f'difference: {(sum(numbers)**2) - sum(squares)}')"
   ]
  },
  {
   "cell_type": "markdown",
   "id": "3189d7a1",
   "metadata": {},
   "source": [
    "The answer is 25,164,150."
   ]
  }
 ],
 "metadata": {
  "kernelspec": {
   "display_name": "king",
   "language": "python",
   "name": "king"
  },
  "language_info": {
   "codemirror_mode": {
    "name": "ipython",
    "version": 3
   },
   "file_extension": ".py",
   "mimetype": "text/x-python",
   "name": "python",
   "nbconvert_exporter": "python",
   "pygments_lexer": "ipython3",
   "version": "3.10.7"
  }
 },
 "nbformat": 4,
 "nbformat_minor": 5
}
