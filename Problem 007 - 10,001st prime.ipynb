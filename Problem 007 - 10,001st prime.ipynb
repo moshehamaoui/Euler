{
 "cells": [
  {
   "cell_type": "markdown",
   "id": "1a060ba0-8400-49a0-adfb-ef3f10c8f0b2",
   "metadata": {},
   "source": [
    "### Problem 7 - 10,001st prime\n",
    "\n",
    "By listing the first six prime numbers: 2, 3, 5, 7, 11, and 13, we can see that the 6th prime is 13.\n",
    "\n",
    "What is the 10 001st prime number?"
   ]
  },
  {
   "cell_type": "markdown",
   "id": "89c99e1b",
   "metadata": {},
   "source": [
    "### Solution\n",
    "\n",
    "Build a list of prime numbers until the list size is equal to the desired prime.\n"
   ]
  },
  {
   "cell_type": "code",
   "execution_count": 5,
   "id": "d6b172e9",
   "metadata": {},
   "outputs": [
    {
     "name": "stdout",
     "output_type": "stream",
     "text": [
      "prime rank is: 10001\n",
      "prime number is: 104743\n"
     ]
    }
   ],
   "source": [
    "limit = 10001 # set the limit to the desired prime\n",
    "test = 0 # initailize a variable\n",
    "\n",
    "\n",
    "# initialize the list of prime numbers\n",
    "primes = [2,3,5] \n",
    "\n",
    "# Begin with the next prime after 5\n",
    "x = 7\n",
    "\n",
    "\n",
    "while len(primes) < limit:\n",
    "    # check if x is a multiple of any prime already in the list\n",
    "    for n in primes:\n",
    "        \n",
    "        # if x is a multiple of any prime\n",
    "        if x%n == 0:\n",
    "            # increase x by 2, set test to 0, and move on\n",
    "            x = x + 2\n",
    "            test = 0\n",
    "            break\n",
    "        \n",
    "        # if x is not a multiple, increase test by 1\n",
    "        if x%n != 0:\n",
    "            test = test + 1\n",
    "            \n",
    "    # if test is positive, append the prime list, increase x by 2, and move on    \n",
    "    if test > 0:\n",
    "        primes.append(x)\n",
    "        test = 0\n",
    "        x = x + 2\n",
    "\n",
    "# print the results\n",
    "print(f'prime rank is: {len(primes)}')\n",
    "print(f'prime number is: {max(primes)}')"
   ]
  },
  {
   "cell_type": "markdown",
   "id": "1681b828",
   "metadata": {},
   "source": [
    "The 10,001st prime number is 104,743."
   ]
  }
 ],
 "metadata": {
  "kernelspec": {
   "display_name": "king",
   "language": "python",
   "name": "king"
  },
  "language_info": {
   "codemirror_mode": {
    "name": "ipython",
    "version": 3
   },
   "file_extension": ".py",
   "mimetype": "text/x-python",
   "name": "python",
   "nbconvert_exporter": "python",
   "pygments_lexer": "ipython3",
   "version": "3.10.7"
  }
 },
 "nbformat": 4,
 "nbformat_minor": 5
}
