{
 "cells": [
  {
   "cell_type": "markdown",
   "id": "2a098935-5a9c-46f5-9c43-46d82bd60dac",
   "metadata": {},
   "source": [
    "### Problem 8 - Largest product in a series\n",
    "\n",
    "The four adjacent digits in the 1000-digit number that have the greatest product are 9 × 9 × 8 × 9 = 5832.\n",
    "\n",
    "                        73167176531330624919225119674426574742355349194934\n",
    "                        96983520312774506326239578318016984801869478851843\n",
    "                        85861560789112949495459501737958331952853208805511\n",
    "                        12540698747158523863050715693290963295227443043557\n",
    "                        66896648950445244523161731856403098711121722383113\n",
    "                        62229893423380308135336276614282806444486645238749\n",
    "                        30358907296290491560440772390713810515859307960866\n",
    "                        70172427121883998797908792274921901699720888093776\n",
    "                        65727333001053367881220235421809751254540594752243\n",
    "                        52584907711670556013604839586446706324415722155397\n",
    "                        53697817977846174064955149290862569321978468622482\n",
    "                        83972241375657056057490261407972968652414535100474\n",
    "                        82166370484403199890008895243450658541227588666881\n",
    "                        16427171479924442928230863465674813919123162824586\n",
    "                        17866458359124566529476545682848912883142607690042\n",
    "                        24219022671055626321111109370544217506941658960408\n",
    "                        07198403850962455444362981230987879927244284909188\n",
    "                        84580156166097919133875499200524063689912560717606\n",
    "                        05886116467109405077541002256983155200055935729725\n",
    "                        71636269561882670428252483600823257530420752963450\n",
    "\n",
    "Find the thirteen adjacent digits in the 1000-digit number that have the greatest product. What is the value of this product?"
   ]
  },
  {
   "cell_type": "markdown",
   "id": "bb3b9f74",
   "metadata": {},
   "source": [
    "### Solution\n",
    "\n",
    "Create a moving 13-digit window through the number and find each window's product. Keep track of the largest product."
   ]
  },
  {
   "cell_type": "code",
   "execution_count": 16,
   "id": "0fcef556-a551-48b6-a182-ac35f54fb008",
   "metadata": {},
   "outputs": [
    {
     "name": "stdout",
     "output_type": "stream",
     "text": [
      "23514624000\n"
     ]
    }
   ],
   "source": [
    "# initialize the variables\n",
    "limit = 13 # number of adjacent digits\n",
    "thirteen = [] # list of any set of 13 adjacebt digits\n",
    "counter = 0\n",
    "product = 1 # starting product\n",
    "largest = 0 # largest product\n",
    "\n",
    "\n",
    "# copy/paste the 1000-digit number as a string \n",
    "thousand = str(7316717653133062491922511967442657474235534919493496983520312774506326239578318016984801869478851843858615607891129494954595017379583319528532088055111254069874715852386305071569329096329522744304355766896648950445244523161731856403098711121722383113622298934233803081353362766142828064444866452387493035890729629049156044077239071381051585930796086670172427121883998797908792274921901699720888093776657273330010533678812202354218097512545405947522435258490771167055601360483958644670632441572215539753697817977846174064955149290862569321978468622482839722413756570560574902614079729686524145351004748216637048440319989000889524345065854122758866688116427171479924442928230863465674813919123162824586178664583591245665294765456828489128831426076900422421902267105562632111110937054421750694165896040807198403850962455444362981230987879927244284909188845801561660979191338754992005240636899125607176060588611646710940507754100225698315520005593572972571636269561882670428252483600823257530420752963450)\n",
    "\n",
    "# loop through the number\n",
    "while counter < len(thousand):\n",
    "    # create the first 13 digit list\n",
    "    thirteen.append(thousand[counter])\n",
    "    # upon reaching 13 digits\n",
    "    if len(thirteen) == limit:\n",
    "        # find the product\n",
    "        for a in range(limit):\n",
    "            product = product * int(thirteen[a])\n",
    "            a += 1\n",
    "        # set the largest product\n",
    "        largest = product\n",
    "        # reset the starting product\n",
    "        product = 1\n",
    "        \n",
    "    # when a 14th digit is added    \n",
    "    if len(thirteen) == limit+1:\n",
    "        # remove the first digit\n",
    "        thirteen.remove(thirteen[0])\n",
    "        # find the product\n",
    "        for a in range(limit):\n",
    "            product = product * int(thirteen[a])\n",
    "            a += 1\n",
    "        # if the new product is larger than the current largest product\n",
    "        if product > largest:\n",
    "            # set the new product as the largest\n",
    "            largest = product\n",
    "        # reset the starting product\n",
    "        product = 1\n",
    "    counter += 1\n",
    "print(largest)"
   ]
  },
  {
   "cell_type": "markdown",
   "id": "b9a438ee",
   "metadata": {},
   "source": [
    "The answer is 23,514,624,000."
   ]
  }
 ],
 "metadata": {
  "kernelspec": {
   "display_name": "king",
   "language": "python",
   "name": "king"
  },
  "language_info": {
   "codemirror_mode": {
    "name": "ipython",
    "version": 3
   },
   "file_extension": ".py",
   "mimetype": "text/x-python",
   "name": "python",
   "nbconvert_exporter": "python",
   "pygments_lexer": "ipython3",
   "version": "3.10.7"
  }
 },
 "nbformat": 4,
 "nbformat_minor": 5
}
