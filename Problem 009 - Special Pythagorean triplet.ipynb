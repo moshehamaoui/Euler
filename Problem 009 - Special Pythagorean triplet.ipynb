{
 "cells": [
  {
   "cell_type": "markdown",
   "id": "354d5768-c50c-49f0-83b9-3d39ae37c6ea",
   "metadata": {},
   "source": [
    "### Problem 9 - Special Pythagorean triplet\n",
    "\n",
    "A Pythagorean triplet is a set of three natural numbers, $ a < b < c $, for which,\n",
    "\n",
    "$$\n",
    "  a^2 + b^2 = c^2\n",
    "$$\n",
    "\n",
    "For example, $ 3^2 + 4^2 = 9 + 16 = 25 = 5^2. $\n",
    "\n",
    "There exists exactly one Pythagorean triplet for which $ a + b + c $ = 1000.  \n",
    "Find the product _abc_."
   ]
  },
  {
   "cell_type": "markdown",
   "id": "976433a3",
   "metadata": {},
   "source": [
    "### Solution\n",
    "\n",
    "For $ a < b < c $ to be true, their ranges must be:\n",
    "\n",
    "- Range $a$ : 2 - 333\n",
    "- Range $b$ : 3 - 498\n",
    "- Range $c$ : 334 - 499\n",
    "\n",
    "If $a$ was greater than 333, it would be impossible for the sum to be 1000.  \n",
    "$ 333 + 334 + 335 = 1002 $.\n",
    "\n",
    "The range of $b$ is limited by the lower bound of $a$ and the upper bound of $c$\n",
    "\n",
    "If $c$ was greater than 499, it would be impossible to form a triangle using the limitations of $a$ and $b$ while still summing to 1000.  \n",
    "For every triangle, legs $a$ and $b$ must sum to greater than $c$.  \n",
    "$ (>500) + 500 > 1000 $.\n",
    "\n",
    "#### The Search\n",
    "Start with variables as close to equal as possible.  \n",
    "Increment $a$ by 1 and decrement $b$ by 1.  \n",
    "When $b$ is equal to $a$ or only greater than $a$ by 1, increment $c$ by 1 and set $b$ to $c - 1$ and $a$ to $1000 - c - b$."
   ]
  },
  {
   "cell_type": "code",
   "execution_count": 19,
   "id": "2a838cb3-41ea-4e96-9c93-f705e7c09727",
   "metadata": {},
   "outputs": [
    {
     "name": "stdout",
     "output_type": "stream",
     "text": [
      "a = 200, b = 375, c = 425\n",
      "c^2 = 180625\n",
      "product of abc = 31875000\n"
     ]
    }
   ],
   "source": [
    "# initialize the variables\n",
    "add = 1000 # the sum\n",
    "# start with abc as close to equal as possible\n",
    "c = round(add/3) + 1 \n",
    "b = c - 1 \n",
    "a = add - b - c\n",
    "\n",
    "# confirm abc sum to 1000\n",
    "while a + b + c == add:\n",
    "    # if abc form a pythagorian triplet\n",
    "    if a*a + b*b == c*c:\n",
    "        print(f'a = {a}, b = {b}, c = {c}')\n",
    "        print(f'c^2 = {c*c}')\n",
    "        print(f'product of abc = {a*b*c}')\n",
    "        break\n",
    "        \n",
    "    # if abc do not form a pythagorian triplet\n",
    "    elif a*a + b*b != c*c:\n",
    "        \n",
    "        # if b is equal to a or only greater than a by 1\n",
    "        if b == a or b == a + 1:\n",
    "            # increment c\n",
    "            c = c + 1\n",
    "            # reset b\n",
    "            b = c - 1\n",
    "            # reset a\n",
    "            a = add - b - c\n",
    "            \n",
    "        else:\n",
    "            # decrement b\n",
    "            b = b - 1\n",
    "            # increment a\n",
    "            a = a + 1"
   ]
  },
  {
   "cell_type": "markdown",
   "id": "0a7abd20",
   "metadata": {},
   "source": [
    "$ a =  200 $  \n",
    "$ b =  375 $  \n",
    "$ c =  425 $  \n",
    "$ c^2 = 180,625 $  \n",
    "The product of $abc$ is 31,875,000"
   ]
  }
 ],
 "metadata": {
  "kernelspec": {
   "display_name": "king",
   "language": "python",
   "name": "king"
  },
  "language_info": {
   "codemirror_mode": {
    "name": "ipython",
    "version": 3
   },
   "file_extension": ".py",
   "mimetype": "text/x-python",
   "name": "python",
   "nbconvert_exporter": "python",
   "pygments_lexer": "ipython3",
   "version": "3.10.7"
  }
 },
 "nbformat": 4,
 "nbformat_minor": 5
}
