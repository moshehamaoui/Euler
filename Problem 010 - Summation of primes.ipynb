{
 "cells": [
  {
   "cell_type": "markdown",
   "id": "54c5ac96-59f8-4a95-a735-c5bc36b432ee",
   "metadata": {},
   "source": [
    "### Problem 10 - Summation of primes\n",
    "\n",
    "The sum of the primes below $10$ is $2 + 3 + 5 + 7 = 17$.\n",
    "\n",
    "Find the sum of all the primes below two million."
   ]
  },
  {
   "cell_type": "markdown",
   "id": "c2f6a4cc",
   "metadata": {},
   "source": [
    "### Solution\n",
    "\n",
    "Create a list of all the primes below 2 million.  \n",
    "Sum the list."
   ]
  },
  {
   "cell_type": "code",
   "execution_count": 3,
   "id": "366f6dfe-b6fc-4d2a-b2e2-89c4f4239d70",
   "metadata": {},
   "outputs": [
    {
     "name": "stdout",
     "output_type": "stream",
     "text": [
      "the length of the list is: 148933\n",
      "the sum is 142913828922\n"
     ]
    }
   ],
   "source": [
    "# initialize the variables\n",
    "limit = 2000000\n",
    "primes = [2, 3] # list with the first two primes\n",
    "x = 5 # start with the next prime\n",
    "\n",
    "while x < limit:\n",
    "    # check if x is a multiple of any primes in the list\n",
    "    for p in primes:\n",
    "        # if it is a multiple\n",
    "        if x%p == 0:\n",
    "            # increment x (avoiding even numbers)\n",
    "            x += 2\n",
    "            break\n",
    "        # if the prime number being checked as a factor of x is greater than the square root of x\n",
    "        if x**(1/2) < p:\n",
    "            # add x to the prime list\n",
    "            primes.append(x)\n",
    "            # increment x (avoiding even numbers)\n",
    "            x += 2\n",
    "            break\n",
    "            \n",
    "\n",
    "print(f'the length of the list is: {len(primes)}')\n",
    "print(f'the sum is {sum(primes)}')    "
   ]
  },
  {
   "cell_type": "markdown",
   "id": "a8039451",
   "metadata": {},
   "source": [
    "The answer is 142,913,828,922."
   ]
  }
 ],
 "metadata": {
  "kernelspec": {
   "display_name": "king",
   "language": "python",
   "name": "king"
  },
  "language_info": {
   "codemirror_mode": {
    "name": "ipython",
    "version": 3
   },
   "file_extension": ".py",
   "mimetype": "text/x-python",
   "name": "python",
   "nbconvert_exporter": "python",
   "pygments_lexer": "ipython3",
   "version": "3.10.7"
  }
 },
 "nbformat": 4,
 "nbformat_minor": 5
}
