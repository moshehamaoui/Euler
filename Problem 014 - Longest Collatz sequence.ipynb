{
 "cells": [
  {
   "cell_type": "markdown",
   "id": "0be25adf-b5fe-43b5-b3aa-0a45c4acbde0",
   "metadata": {},
   "source": [
    "### Problem 14 - Longest Collatz sequence\n",
    "\n",
    "The following iterative sequence is defined for the set of positive integers:\n",
    "\n",
    "$ n → n/2$ ($n$ is even)  \n",
    "$ n → 3n + 1$ ($n$ is odd)\n",
    "\n",
    "Using the rule above and starting with 13, we generate the following sequence:\n",
    "\n",
    "$$ 13 → 40 → 20 → 10 → 5 → 16 → 8 → 4 → 2 → 1 $$\n",
    "    \n",
    "It can be seen that this sequence (starting at $13$ and finishing at $1$) contains $10$ terms. Although it has not been proved yet (Collatz Problem), it is thought that all starting numbers finish at $1$.\n",
    "\n",
    "Which starting number, under one million, produces the longest chain?\n",
    "\n",
    "**NOTE:** Once the chain starts the terms are allowed to go above one million."
   ]
  },
  {
   "cell_type": "markdown",
   "id": "ec6c45ee",
   "metadata": {},
   "source": [
    "### Solution\n",
    "\n",
    "Create a function that follows the Collatz sequence of any initial number all the way to $1$, keeping track of every number in the sequence along the way.\n",
    "\n",
    "Record the number with the longest sequence and its length."
   ]
  },
  {
   "cell_type": "code",
   "execution_count": 6,
   "id": "8a4cb858",
   "metadata": {},
   "outputs": [],
   "source": [
    "def collatz(n):\n",
    "    sequence = [n]\n",
    "    while n != 1:\n",
    "        # if n is even\n",
    "        if n%2 == 0:\n",
    "            n = n/2\n",
    "            sequence.append(int(n))\n",
    "        # if n is odd\n",
    "        else: \n",
    "            n = n*3 + 1\n",
    "            sequence.append(int(n))\n",
    "    return(sequence)"
   ]
  },
  {
   "cell_type": "code",
   "execution_count": 9,
   "id": "dc338cc8-45ce-4e0a-8d09-c67765675400",
   "metadata": {},
   "outputs": [
    {
     "name": "stdout",
     "output_type": "stream",
     "text": [
      "837799 525\n"
     ]
    }
   ],
   "source": [
    "# initiate variables\n",
    "limit = 1000000\n",
    "n = 2 # starting number\n",
    "longest = 1 # longest sequence\n",
    "largest = 1 # number with longest sequence\n",
    "\n",
    "# loop to determine number with the longest sequence \n",
    "while n < limit:\n",
    "    b = collatz(n)\n",
    "    if len(b) > longest:\n",
    "        longest = len(b)\n",
    "        largest = n\n",
    "    n += 1\n",
    "print(largest, longest)"
   ]
  },
  {
   "cell_type": "markdown",
   "id": "a2650f3e",
   "metadata": {},
   "source": [
    "The answer to the starting number that produces the longest Collatz sequence is **837,799** with a length of 525."
   ]
  }
 ],
 "metadata": {
  "kernelspec": {
   "display_name": "king",
   "language": "python",
   "name": "king"
  },
  "language_info": {
   "codemirror_mode": {
    "name": "ipython",
    "version": 3
   },
   "file_extension": ".py",
   "mimetype": "text/x-python",
   "name": "python",
   "nbconvert_exporter": "python",
   "pygments_lexer": "ipython3",
   "version": "3.10.7"
  }
 },
 "nbformat": 4,
 "nbformat_minor": 5
}
