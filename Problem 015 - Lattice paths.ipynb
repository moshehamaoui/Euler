{
 "cells": [
  {
   "attachments": {
    "Lattice_Paths.png": {
     "image/png": "[encoded data removed]"
    }
   },
   "cell_type": "markdown",
   "id": "15084247-d809-49bb-8f7c-47e8cf07427a",
   "metadata": {},
   "source": [
    "### Problem 15 - Lattice paths\n",
    "\n",
    "Starting in the top left corner of a 2×2 grid, and only being able to move to the right and down, there are exactly 6 routes to the bottom right corner.\n",
    "\n",
    "\n",
    "![Lattice_Paths.png](attachment:Lattice_Paths.png)\n",
    "\n",
    "\n",
    "How many such routes are there through a 20×20 grid?"
   ]
  },
  {
   "cell_type": "markdown",
   "id": "b2b11d64",
   "metadata": {},
   "source": [
    "### Solution\n",
    "\n",
    "The trick to this question is realizing that there is a symmetry along every grid's diaginal axis. Only the routes to the vertices along the diagonal of the square (from the top right to the bottom left) need to be calculated. As there must be an equal number of routes into each vertex as out, squaring the routes into any vertex will yield all the possible routes from the starting corner to the ending corner that pass through said vertex. Adding all these squares together will result in the total number of routes from start to finish.\n",
    "\n",
    "In a 1x1 grid, there are only 2 vertices along the diagonal. There is 1 way to get to the top right corner and 1 way to get to the bottom left corner.    \n",
    "I'll designate this as [1,1].  \n",
    "$1^2 + 1^2 = 2$ so there are 2 routes in a 1x1 grid. \n",
    "\n",
    "In a 2x2 grid, there are 3 vertices along the diagonal. There is 1 way to get to the top right corner, 1 way to get to the bottom left corner, and 2 ways to get to the midpoint vertex.  \n",
    "I'll designate this as [1,2,1].  \n",
    "$1^2 + 2^2 + 1^2 = 6$ so there are 6 routes in a 2x2 grid.\n",
    "\n",
    "In a 3x3 grid, there are 4 vertices along the diagonal. There is 1 way to get to the top right corner, 1 way to get to the bottom left corner, and 3 ways to get each of the two vertices in the middle.  \n",
    "I'll designate this as [1,3,3,1].  \n",
    "$1^2 + 3^2 + 3^2 + 1^2 = 20$ so there are 20 routes in a 3x3 grid.\n",
    "\n",
    "In a 4x4 grid, there are 5 vertices along the diagonal. There is 1 way to get to the top right corner, 1 way to get to the bottom left corner, 4 ways to get each of the two vertices that are not on the edge or the midpoint of the diagonal, and 6 ways to get to the midpoint vertex.  \n",
    "I'll designate this as [1,4,6,4,1].  \n",
    "$1^2 + 4^2 + 6^2 + 4^2 + 1^2 = 70$ so there are 70 routes in a 4x4 grid.\n",
    "\n",
    "This is where a pattern can be seen in the form of Pascal's triangle (https://en.wikipedia.org/wiki/Pascal%27s_triangle):\n",
    "\n",
    "    1: 1, 1\n",
    "    2: 1, 2, 1\n",
    "    3: 1, 3, 3, 1\n",
    "    4: 1, 4, 6, 4, 1\n",
    "\n",
    "Form Pascal's triangle to the 20th row, square each term in the 20th row, and sum them for the answer."
   ]
  },
  {
   "cell_type": "code",
   "execution_count": 21,
   "id": "521d5a82",
   "metadata": {},
   "outputs": [
    {
     "name": "stdout",
     "output_type": "stream",
     "text": [
      "There are 137846528820 routes.\n"
     ]
    }
   ],
   "source": [
    "# initialize the variables\n",
    "sequence = [1, 1] # first row\n",
    "limit = 20 # final row\n",
    "term = 1 # term in each row\n",
    "row = 2\n",
    "\n",
    "# calculate the sequence of each new row\n",
    "while term <= row and row <= limit:\n",
    "    # begin each sequence with a 1\n",
    "    if term == 1:\n",
    "        new_sequence = [1]\n",
    "    new_sequence.append(sequence[term-1] + sequence[term])\n",
    "    term += 1\n",
    "    # end each sequence with a 1\n",
    "    if term == row and row <= limit:\n",
    "        new_sequence.append(1)\n",
    "        \n",
    "        # reset the variables\n",
    "        row += 1\n",
    "        sequence = new_sequence\n",
    "        term = 1\n",
    "        \n",
    "###         to keep track of each row:\n",
    "###         print(row-1, sequence)\n",
    "        \n",
    "# square each term and sum      \n",
    "squares = []\n",
    "for n in sequence:\n",
    "    squares.append(n**2)\n",
    "print(f'There are {sum(squares)} routes.')"
   ]
  },
  {
   "cell_type": "markdown",
   "id": "67a827a9",
   "metadata": {},
   "source": [
    "There are **137,846,528,820** routes through a 20x20 grid."
   ]
  }
 ],
 "metadata": {
  "kernelspec": {
   "display_name": "king",
   "language": "python",
   "name": "king"
  },
  "language_info": {
   "codemirror_mode": {
    "name": "ipython",
    "version": 3
   },
   "file_extension": ".py",
   "mimetype": "text/x-python",
   "name": "python",
   "nbconvert_exporter": "python",
   "pygments_lexer": "ipython3",
   "version": "3.10.7"
  }
 },
 "nbformat": 4,
 "nbformat_minor": 5
}
