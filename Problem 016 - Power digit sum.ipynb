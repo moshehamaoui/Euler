{
 "cells": [
  {
   "cell_type": "markdown",
   "id": "86f1e542-a5a9-4163-9b52-9489d1ad4b3f",
   "metadata": {},
   "source": [
    "### Problem 16 - Power digit sum\n",
    "\n",
    "$2^{15} = 32768$ and the sum of its digits is $3 + 2 + 7 + 6 + 8 = 26$.\n",
    "\n",
    "What is the sum of the digits of the number $2^{1000}$?"
   ]
  },
  {
   "cell_type": "markdown",
   "id": "6c1fece0",
   "metadata": {},
   "source": [
    "### Solution\n",
    "\n",
    "This one is pretty straightforward. Calculate the number and sum the digits."
   ]
  },
  {
   "cell_type": "code",
   "execution_count": 6,
   "id": "ff68646f-30c3-4826-8dde-50304d18796d",
   "metadata": {},
   "outputs": [
    {
     "name": "stdout",
     "output_type": "stream",
     "text": [
      "1366\n"
     ]
    }
   ],
   "source": [
    "# initialize the variables\n",
    "power = 1000\n",
    "number = 2**power\n",
    "digits = []\n",
    "\n",
    "# turn the number into a string to separate the digits\n",
    "number = str(number)\n",
    "\n",
    "for d in number:\n",
    "    digits.append(int(d))\n",
    "total = sum(digits)\n",
    "print(total)"
   ]
  },
  {
   "cell_type": "markdown",
   "id": "a8316b67",
   "metadata": {},
   "source": [
    "The sum is $1366$."
   ]
  }
 ],
 "metadata": {
  "kernelspec": {
   "display_name": "king",
   "language": "python",
   "name": "king"
  },
  "language_info": {
   "codemirror_mode": {
    "name": "ipython",
    "version": 3
   },
   "file_extension": ".py",
   "mimetype": "text/x-python",
   "name": "python",
   "nbconvert_exporter": "python",
   "pygments_lexer": "ipython3",
   "version": "3.10.7"
  }
 },
 "nbformat": 4,
 "nbformat_minor": 5
}
